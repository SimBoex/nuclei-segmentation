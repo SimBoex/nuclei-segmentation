{
 "cells": [
  {
   "cell_type": "markdown",
   "metadata": {},
   "source": [
    "# DockerFile"
   ]
  },
  {
   "cell_type": "markdown",
   "metadata": {},
   "source": [
    "- The Dockerfile is a script containing commands to assemble a Docker image."
   ]
  },
  {
   "cell_type": "markdown",
   "metadata": {},
   "source": [
    "1. Start with a Parent Image:\n",
    "    - Use the FROM command to specify the base image. For a Python application, you might use a Linux image with Python pre-installed.\n",
    "    - Eg. FROM python:3.8-slim\n",
    "2. Copy Application Files:\n",
    "    - The COPY command copies your application files into the image (the cwd is where the DockerFile is stored). Here i take all the files and copy them to the /app dir in the container\n",
    "    - COPY . /app\n",
    "3. Set Working Directory:\n",
    "    - Use WORKDIR to set the directory where the application will run inside the container (the name of the dir in the container).\n",
    "    - Eg. WORKDIR /app\n",
    "4. Install Dependencies:\n",
    "    - The RUN command allows you to install required dependencies.\n",
    "    - Eg. RUN pip install -r requirements.txt\n",
    "5. Expose Port:\n",
    "    - EXPOSE $PORT tells Docker to expose a specific port at runtime. Heroku dynamically assigns a port value to the $PORT environment variable.\n",
    "    - Eg. EXPOSE $PORT\n",
    "6. Specify Command to Run the Application:\n",
    "    - The CMD command specifies the instruction to run when the container starts.\n",
    "    - Eg. CMD gunicorn --bind 0.0.0.0:$PORT app:app"
   ]
  }
 ],
 "metadata": {
  "language_info": {
   "name": "python"
  }
 },
 "nbformat": 4,
 "nbformat_minor": 2
}
