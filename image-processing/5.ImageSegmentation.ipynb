{
 "cells": [
  {
   "cell_type": "markdown",
   "metadata": {},
   "source": [
    "# K-means clustering"
   ]
  },
  {
   "cell_type": "markdown",
   "metadata": {},
   "source": [
    "1. K-means clustering is a popular unsupervised machine learning algorithm that divides a set of data points into k distinct clusters based on their features.\n",
    "- Initialization: Choose k initial centroids randomly from the data points.\n",
    "- Assignment Step: Assign each data point to the closest centroid, forming k clusters.\n",
    "- Update Step: Calculate the new centroids by taking the mean of all points assigned to each cluster.\n",
    "- Iterative Optimization: Repeat the assignment and update steps until the centroids no longer change significantly.\n",
    "- Convergence: The algorithm converges when the assignments no longer change or the change is below a certain threshold.\n",
    "- Evaluation: Assess the quality of the clustering, often using metrics like within-cluster sum of squares (WCSS).\n",
    "- Choosing k: Select the number of clusters using methods like the elbow method, which involves plotting WCSS against the number of clusters and looking for an 'elbow' point.\n",
    "- Scalability: K-means can struggle with large datasets or high numbers of dimensions; methods like k-means++ can help with efficient centroid initialization.\n",
    "- Sensitivity to Initialization: The initial choice of centroids can affect the final outcome; multiple runs with different initializations can improve results.\n",
    "- Limitations: K-means assumes spherical clusters and is sensitive to outliers; variations like k-medoids or DBSCAN may be more appropriate for different data distributions."
   ]
  },
  {
   "cell_type": "markdown",
   "metadata": {},
   "source": [
    "# Color quantization!"
   ]
  },
  {
   "cell_type": "markdown",
   "metadata": {},
   "source": []
  }
 ],
 "metadata": {
  "language_info": {
   "name": "python"
  }
 },
 "nbformat": 4,
 "nbformat_minor": 2
}
